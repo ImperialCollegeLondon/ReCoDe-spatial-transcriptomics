{
    "cells": [
        {
            "cell_type": "code",
            "execution_count": 1,
            "id": "de32405e",
            "metadata": {},
            "outputs": [],
            "source": [
                "import os\n",
                "import sys\n",
                "\n",
                "sys.path.append(os.path.abspath(\"../src\"))"
            ]
        },
        {
            "cell_type": "code",
            "execution_count": 2,
            "id": "b7bb86a8",
            "metadata": {},
            "outputs": [
                {
                    "name": "stdout",
                    "output_type": "stream",
                    "text": [
                        " Hi Eileen! \n",
                        "\n",
                        "        \\   ^__^\n",
                        "         \\  (oo)\\_______\n",
                        "            (__)\\       )\\/\\\n",
                        "                ||----w |\n",
                        "                ||     ||\n",
                        "    \n"
                    ]
                }
            ],
            "source": [
                "from main import cowsay\n",
                "\n",
                "cowsay(\"Hi Eileen!\")"
            ]
        },
        {
            "cell_type": "markdown",
            "id": "734cef97",
            "metadata": {},
            "source": [
                "![Eileen Collins](assets/astronaut.png)"
            ]
        }
    ],
    "metadata": {
        "kernelspec": {
            "display_name": ".venv",
            "language": "python",
            "name": "python3"
        },
        "language_info": {
            "codemirror_mode": {
                "name": "ipython",
                "version": 3
            },
            "file_extension": ".py",
            "mimetype": "text/x-python",
            "name": "python",
            "nbconvert_exporter": "python",
            "pygments_lexer": "ipython3",
            "version": "3.13.2"
        }
    },
    "nbformat": 4,
    "nbformat_minor": 5
}
